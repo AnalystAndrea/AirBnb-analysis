{
 "cells": [
  {
   "cell_type": "code",
   "execution_count": 3,
   "metadata": {},
   "outputs": [
    {
     "name": "stdout",
     "output_type": "stream",
     "text": [
      "        City  Population    Area       Density\n",
      "0  Amsterdam      921402   219.0   4207.315068\n",
      "1     Athens      665040    39.0  17052.307692\n",
      "2  Barcelona     1636193   101.0  16199.930693\n",
      "3     Berlin     3721459   891.7   4173.442862\n",
      "4   Budapest     1752286   525.2   3336.416603\n",
      "5     Lisbon      545923   100.0   5459.230000\n",
      "6     London     9625501  1572.0   6123.092239\n",
      "7      Paris     2229095   105.4  21148.908918\n",
      "8       Rome     2749031  1285.0   2139.323735\n",
      "9     Vienna     1982442   414.6   4781.577424\n"
     ]
    }
   ],
   "source": [
    "import pandas as pd\n",
    "\n",
    "# Creazione dei dati\n",
    "cities = ['Amsterdam', 'Athens', 'Barcelona', 'Berlin', 'Budapest', 'Lisbon', 'London', 'Paris', 'Rome', 'Vienna']\n",
    "population = [921402 , 665040, 1636193, 3721459 , 1752286, 545923, 9625501, 2229095, 2749031, \t1982442]\n",
    "area = [219, 39, 101, 891.7, 525.2, 100, 1572, 105.4, 1285, 414.6]\n",
    "\n",
    "# Calcolo della densità\n",
    "density = [p/a for p, a in zip(population, area)]\n",
    "\n",
    "# Creazione del DataFrame\n",
    "data = {'City': cities, 'Population': population, 'Area': area, 'Density': density}\n",
    "df = pd.DataFrame(data)\n",
    "\n",
    "# Stampa del DataFrame\n",
    "print(df)\n"
   ]
  },
  {
   "cell_type": "code",
   "execution_count": 5,
   "metadata": {},
   "outputs": [],
   "source": [
    "df['Density']= df['Density'].round(1)"
   ]
  },
  {
   "cell_type": "code",
   "execution_count": 6,
   "metadata": {},
   "outputs": [
    {
     "data": {
      "text/html": [
       "<div>\n",
       "<style scoped>\n",
       "    .dataframe tbody tr th:only-of-type {\n",
       "        vertical-align: middle;\n",
       "    }\n",
       "\n",
       "    .dataframe tbody tr th {\n",
       "        vertical-align: top;\n",
       "    }\n",
       "\n",
       "    .dataframe thead th {\n",
       "        text-align: right;\n",
       "    }\n",
       "</style>\n",
       "<table border=\"1\" class=\"dataframe\">\n",
       "  <thead>\n",
       "    <tr style=\"text-align: right;\">\n",
       "      <th></th>\n",
       "      <th>City</th>\n",
       "      <th>Population</th>\n",
       "      <th>Area</th>\n",
       "      <th>Density</th>\n",
       "    </tr>\n",
       "  </thead>\n",
       "  <tbody>\n",
       "    <tr>\n",
       "      <th>0</th>\n",
       "      <td>Amsterdam</td>\n",
       "      <td>921402</td>\n",
       "      <td>219.0</td>\n",
       "      <td>4207.3</td>\n",
       "    </tr>\n",
       "    <tr>\n",
       "      <th>1</th>\n",
       "      <td>Athens</td>\n",
       "      <td>665040</td>\n",
       "      <td>39.0</td>\n",
       "      <td>17052.3</td>\n",
       "    </tr>\n",
       "    <tr>\n",
       "      <th>2</th>\n",
       "      <td>Barcelona</td>\n",
       "      <td>1636193</td>\n",
       "      <td>101.0</td>\n",
       "      <td>16199.9</td>\n",
       "    </tr>\n",
       "    <tr>\n",
       "      <th>3</th>\n",
       "      <td>Berlin</td>\n",
       "      <td>3721459</td>\n",
       "      <td>891.7</td>\n",
       "      <td>4173.4</td>\n",
       "    </tr>\n",
       "    <tr>\n",
       "      <th>4</th>\n",
       "      <td>Budapest</td>\n",
       "      <td>1752286</td>\n",
       "      <td>525.2</td>\n",
       "      <td>3336.4</td>\n",
       "    </tr>\n",
       "    <tr>\n",
       "      <th>5</th>\n",
       "      <td>Lisbon</td>\n",
       "      <td>545923</td>\n",
       "      <td>100.0</td>\n",
       "      <td>5459.2</td>\n",
       "    </tr>\n",
       "    <tr>\n",
       "      <th>6</th>\n",
       "      <td>London</td>\n",
       "      <td>9625501</td>\n",
       "      <td>1572.0</td>\n",
       "      <td>6123.1</td>\n",
       "    </tr>\n",
       "    <tr>\n",
       "      <th>7</th>\n",
       "      <td>Paris</td>\n",
       "      <td>2229095</td>\n",
       "      <td>105.4</td>\n",
       "      <td>21148.9</td>\n",
       "    </tr>\n",
       "    <tr>\n",
       "      <th>8</th>\n",
       "      <td>Rome</td>\n",
       "      <td>2749031</td>\n",
       "      <td>1285.0</td>\n",
       "      <td>2139.3</td>\n",
       "    </tr>\n",
       "    <tr>\n",
       "      <th>9</th>\n",
       "      <td>Vienna</td>\n",
       "      <td>1982442</td>\n",
       "      <td>414.6</td>\n",
       "      <td>4781.6</td>\n",
       "    </tr>\n",
       "  </tbody>\n",
       "</table>\n",
       "</div>"
      ],
      "text/plain": [
       "        City  Population    Area  Density\n",
       "0  Amsterdam      921402   219.0   4207.3\n",
       "1     Athens      665040    39.0  17052.3\n",
       "2  Barcelona     1636193   101.0  16199.9\n",
       "3     Berlin     3721459   891.7   4173.4\n",
       "4   Budapest     1752286   525.2   3336.4\n",
       "5     Lisbon      545923   100.0   5459.2\n",
       "6     London     9625501  1572.0   6123.1\n",
       "7      Paris     2229095   105.4  21148.9\n",
       "8       Rome     2749031  1285.0   2139.3\n",
       "9     Vienna     1982442   414.6   4781.6"
      ]
     },
     "execution_count": 6,
     "metadata": {},
     "output_type": "execute_result"
    }
   ],
   "source": [
    "df"
   ]
  },
  {
   "cell_type": "code",
   "execution_count": 8,
   "metadata": {},
   "outputs": [],
   "source": [
    "#df.to_csv('Città.csv', sep=';')"
   ]
  },
  {
   "cell_type": "code",
   "execution_count": null,
   "metadata": {},
   "outputs": [],
   "source": []
  }
 ],
 "metadata": {
  "kernelspec": {
   "display_name": "boolean",
   "language": "python",
   "name": "python3"
  },
  "language_info": {
   "codemirror_mode": {
    "name": "ipython",
    "version": 3
   },
   "file_extension": ".py",
   "mimetype": "text/x-python",
   "name": "python",
   "nbconvert_exporter": "python",
   "pygments_lexer": "ipython3",
   "version": "3.10.10"
  },
  "orig_nbformat": 4
 },
 "nbformat": 4,
 "nbformat_minor": 2
}
